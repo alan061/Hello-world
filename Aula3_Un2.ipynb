{
  "nbformat": 4,
  "nbformat_minor": 0,
  "metadata": {
    "colab": {
      "provenance": [],
      "authorship_tag": "ABX9TyPASsHPYGW/nn+A96umFR59",
      "include_colab_link": true
    },
    "kernelspec": {
      "name": "python3",
      "display_name": "Python 3"
    },
    "language_info": {
      "name": "python"
    }
  },
  "cells": [
    {
      "cell_type": "markdown",
      "metadata": {
        "id": "view-in-github",
        "colab_type": "text"
      },
      "source": [
        "<a href=\"https://colab.research.google.com/github/alan061/Hello-world/blob/main/Aula3_Un2.ipynb\" target=\"_parent\"><img src=\"https://colab.research.google.com/assets/colab-badge.svg\" alt=\"Open In Colab\"/></a>"
      ]
    },
    {
      "cell_type": "code",
      "execution_count": 19,
      "metadata": {
        "colab": {
          "base_uri": "https://localhost:8080/"
        },
        "id": "hMKvdvurlWe1",
        "outputId": "79abfa96-4012-49e5-8bf8-f7c03b4a7b1d"
      },
      "outputs": [
        {
          "output_type": "stream",
          "name": "stdout",
          "text": [
            "Olá meu nome é João\n",
            "idade: 30\n",
            "Nova idade: 31\n"
          ]
        }
      ],
      "source": [
        "# Defini uma classe chamada pessoa\n",
        "class pessoa:\n",
        "  # O metodo _init_ é um construtor, chamado quando um objeto da classe é criado\n",
        "  # ele iniciará os atributos da classe\n",
        "    def __init__(self, nome, idade, genero):\n",
        "  # Self é uma conversão em python que se refere a propia insância da classe\n",
        "  # Os parâmentros, nome, idade e gênero são passados durante a criação do objeto\n",
        "  # Eles são usadow para inicializar os atributos da instância\n",
        "        self.nome = nome\n",
        "        self.idade = idade # atribui valor de idade ao atributo idade da istância\n",
        "        self.genero = genero\n",
        "\n",
        "   # O metodo cumprimentar retorna um saudação com o nome da pessoa.\n",
        "    def cumprimentar(self):\n",
        "        return f\"Olá meu nome é {self.nome}\"\n",
        "\n",
        "    # O metodo an iversario aumenta o nome da pessoa1\n",
        "    def aniversario(self):\n",
        "        self.idade += 1\n",
        "\n",
        "    # Cria uma nova instância da classe \"pessoa\" com valores diferentes\n",
        "pessoa1 = pessoa(\"João\", 30, \"Masculino\")\n",
        "\n",
        "# Chama o metodo 'cumprimentar' na instãncia pessoa2 e imprime a saudação\n",
        "print(pessoa1.cumprimentar())\n",
        "\n",
        "# Acessa o atributo da instãncia idade e imprime a idade\n",
        "print(f\"idade: {pessoa1.idade}\")\n",
        "\n",
        "# Chama o metodo aniversario na instância pessoa para aumentar sua idade em 1\n",
        "pessoa1.aniversario()\n",
        "\n",
        "# Imprime a nova idade da pessoa após o aniversario\n",
        "print(f\"Nova idade: {pessoa1.idade}\")"
      ]
    },
    {
      "cell_type": "code",
      "source": [],
      "metadata": {
        "id": "VOKkJ4dqqoqK"
      },
      "execution_count": null,
      "outputs": []
    },
    {
      "cell_type": "code",
      "source": [],
      "metadata": {
        "id": "SGVxeWIxqotY"
      },
      "execution_count": null,
      "outputs": []
    },
    {
      "cell_type": "code",
      "source": [],
      "metadata": {
        "id": "6yTpkLs5qovn"
      },
      "execution_count": null,
      "outputs": []
    },
    {
      "cell_type": "code",
      "source": [],
      "metadata": {
        "id": "KPF2I_jVqoxw"
      },
      "execution_count": null,
      "outputs": []
    },
    {
      "cell_type": "code",
      "source": [],
      "metadata": {
        "id": "7uqnmJgRqoz7"
      },
      "execution_count": null,
      "outputs": []
    },
    {
      "cell_type": "code",
      "source": [],
      "metadata": {
        "id": "Rthewjzyqo2Z"
      },
      "execution_count": null,
      "outputs": []
    },
    {
      "cell_type": "code",
      "source": [],
      "metadata": {
        "id": "Q5W_H-Itqo46"
      },
      "execution_count": null,
      "outputs": []
    },
    {
      "cell_type": "code",
      "source": [],
      "metadata": {
        "id": "8y4R-CCmqo7t"
      },
      "execution_count": null,
      "outputs": []
    },
    {
      "cell_type": "code",
      "source": [],
      "metadata": {
        "id": "RLViwYciqo_Z"
      },
      "execution_count": null,
      "outputs": []
    }
  ]
}