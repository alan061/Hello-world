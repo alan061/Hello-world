{
  "nbformat": 4,
  "nbformat_minor": 0,
  "metadata": {
    "colab": {
      "provenance": [],
      "authorship_tag": "ABX9TyNJq2ul3xkcYpQsymLGMmi9",
      "include_colab_link": true
    },
    "kernelspec": {
      "name": "python3",
      "display_name": "Python 3"
    },
    "language_info": {
      "name": "python"
    }
  },
  "cells": [
    {
      "cell_type": "markdown",
      "metadata": {
        "id": "view-in-github",
        "colab_type": "text"
      },
      "source": [
        "<a href=\"https://colab.research.google.com/github/alan061/Hello-world/blob/main/Aula3_Un2.ipynb\" target=\"_parent\"><img src=\"https://colab.research.google.com/assets/colab-badge.svg\" alt=\"Open In Colab\"/></a>"
      ]
    },
    {
      "cell_type": "code",
      "execution_count": null,
      "metadata": {
        "colab": {
          "base_uri": "https://localhost:8080/"
        },
        "id": "hMKvdvurlWe1",
        "outputId": "3bd89a39-e579-428d-c9e6-227638e606b9"
      },
      "outputs": [
        {
          "output_type": "stream",
          "name": "stdout",
          "text": [
            "Olá meu nome é Alan\n",
            "idade: 27\n",
            "Nova idade: 28\n"
          ]
        }
      ],
      "source": [
        "# Defini uma classe chamada pessoa\n",
        "class pessoa:\n",
        "  # O metodo _init_ é um construtor, chamado quando um objeto da classe é criado\n",
        "  # ele iniciará os atributos da classe\n",
        "    def __init__(self, nome, idade, genero):\n",
        "  # Self é uma conversão em python que se refere a propia insância da classe\n",
        "  # Os parâmentros, nome, idade e gênero são passados durante a criação do objeto\n",
        "  # Eles são usadow para inicializar os atributos da instância\n",
        "        self.nome = nome\n",
        "        self.idade = idade # atribui valor de idade ao atributo idade da istância\n",
        "        self.genero = genero\n",
        "\n",
        "   # O metodo cumprimentar retorna um saudação com o nome da pessoa.\n",
        "    def cumprimentar(self):\n",
        "        return f\"Olá meu nome é {self.nome}\"\n",
        "\n",
        "    # O metodo an iversario aumenta o nome da pessoa1\n",
        "    def aniversario(self):\n",
        "        self.idade += 1\n",
        "\n",
        "    # Cria uma nova instância da classe \"pessoa\" com valores diferentes\n",
        "pessoa1 = pessoa(\"Alan\", 27, \"Masculino\")\n",
        "\n",
        "# Chama o metodo 'cumprimentar' na instãncia pessoa2 e imprime a saudação\n",
        "print(pessoa1.cumprimentar())\n",
        "\n",
        "# Acessa o atributo da instãncia idade e imprime a idade\n",
        "print(f\"idade: {pessoa1.idade}\")\n",
        "\n",
        "# Chama o metodo aniversario na instância pessoa para aumentar sua idade em 1\n",
        "pessoa1.aniversario()\n",
        "\n",
        "# Imprime a nova idade da pessoa após o aniversario\n",
        "print(f\"Nova idade: {pessoa1.idade}\")"
      ]
    },
    {
      "cell_type": "code",
      "source": [],
      "metadata": {
        "id": "Dfxd712UGfbV"
      },
      "execution_count": null,
      "outputs": []
    },
    {
      "cell_type": "code",
      "source": [],
      "metadata": {
        "id": "VOKkJ4dqqoqK"
      },
      "execution_count": null,
      "outputs": []
    },
    {
      "cell_type": "code",
      "source": [
        "class animal:\n",
        "  def __init__(self, nome):\n",
        "    self.nome = nome\n",
        "\n",
        "  def fazer_barulho(self):\n",
        "    pass\n",
        "\n",
        "class cachorro(animal):\n",
        "  def fazer_barulho(self):\n",
        "    return \"latir\"\n",
        "\n",
        "class gato(animal):\n",
        "  def fazer_barulho(self):\n",
        "    return \"Miar\""
      ],
      "metadata": {
        "id": "SGVxeWIxqotY"
      },
      "execution_count": null,
      "outputs": []
    },
    {
      "cell_type": "code",
      "source": [
        "Rex = cachorro( \"Rex\")\n",
        "Whiskers = gato(\"Whiskers\")"
      ],
      "metadata": {
        "id": "6yTpkLs5qovn"
      },
      "execution_count": null,
      "outputs": []
    },
    {
      "cell_type": "code",
      "source": [
        "print(f\"{Rex.nome} faz: {Rex.fazer_barulho()}\")\n",
        "print(f\"{Whiskers.nome} faz: {Whiskers.fazer_barulho()}\")"
      ],
      "metadata": {
        "colab": {
          "base_uri": "https://localhost:8080/"
        },
        "id": "KPF2I_jVqoxw",
        "outputId": "418e0586-2c0e-49f2-9caa-832cee459d43"
      },
      "execution_count": null,
      "outputs": [
        {
          "output_type": "stream",
          "name": "stdout",
          "text": [
            "Rex faz: latir\n",
            "Whiskers faz: Miar\n"
          ]
        }
      ]
    },
    {
      "cell_type": "code",
      "source": [],
      "metadata": {
        "id": "7uqnmJgRqoz7"
      },
      "execution_count": null,
      "outputs": []
    },
    {
      "cell_type": "code",
      "source": [
        "# Apricando aula\n"
      ],
      "metadata": {
        "id": "Rthewjzyqo2Z"
      },
      "execution_count": null,
      "outputs": []
    },
    {
      "cell_type": "code",
      "source": [
        "class veiculo:\n",
        "  def __init__(self, marca, modelo, ano):\n",
        "    self.marca = marca\n",
        "    self.modelo = modelo\n",
        "    self.ano = ano\n",
        "    self.velocidade = 0\n",
        "\n",
        "  def acelerar(self, incremento):\n",
        "    self.velocidade += incremento\n",
        "\n",
        "  def frear(self, decremento):\n",
        "    self.velocidade -= decremento\n",
        "\n",
        "  def status(self):\n",
        "    return f\"Marca : {self.marca}, Modelo: {self.modelo}, Ano: {self.ano}, Velocidade: {self.velocidade}km/h\""
      ],
      "metadata": {
        "id": "Q5W_H-Itqo46"
      },
      "execution_count": null,
      "outputs": []
    },
    {
      "cell_type": "code",
      "source": [],
      "metadata": {
        "id": "AnmiR6DgDkL7"
      },
      "execution_count": null,
      "outputs": []
    },
    {
      "cell_type": "code",
      "source": [
        "class carro(veiculo):\n",
        "  def __init__(self, marca, modelo, ano, potencia):\n",
        "    super().__init__(marca, modelo, ano)\n",
        "    self.potencia = potencia\n",
        "\n",
        "  def acelerar(self, incremento):\n",
        "    # Carros podem acelerar mais rápido\n",
        "    super().acelerar(incremento + self.potencia)"
      ],
      "metadata": {
        "id": "d75ihrv9DkPP"
      },
      "execution_count": 60,
      "outputs": []
    },
    {
      "cell_type": "code",
      "source": [],
      "metadata": {
        "id": "0luWKBjpDkWM"
      },
      "execution_count": null,
      "outputs": []
    },
    {
      "cell_type": "code",
      "source": [
        "class bicicleta(veiculo):\n",
        "  def __init__(self, marca, modelo, ano, tipo, velocidade, cor):\n",
        "    super().__init__(marca, modelo, ano)\n",
        "    self.tipo = tipo\n",
        "    self.velocidade = velocidade\n",
        "    self.cor = cor\n",
        "\n",
        "  def acelerar(self, incremento):\n",
        "    # Bicicletas podem acelerar mais devagar\n",
        "    super().acelerar(incremento - self.velocidade)\n",
        "\n",
        "  def status(self):\n",
        "    return f\"Marca: {self.marca}, Modelo: {self.modelo}, Ano: {self.ano}, Tipo: {self.tipo}, Velocidade: {self.velocidade}km/h, Cor: {self.cor}\""
      ],
      "metadata": {
        "id": "gOIAwR0xDkbR"
      },
      "execution_count": 106,
      "outputs": []
    },
    {
      "cell_type": "code",
      "source": [
        "#Criando objetos\n",
        "carro1 =  carro(\"Toyota\", \"Corolla\", 2022, 150,)\n",
        "bicicleta1 = bicicleta(\"Trek\", \"Mountain Bike\", 2021, \"MTB\", 50, \"Azul\")"
      ],
      "metadata": {
        "id": "dDonyEJgGhLk"
      },
      "execution_count": 108,
      "outputs": []
    },
    {
      "cell_type": "code",
      "source": [
        "# Acelerando e verificando o status\n",
        "carro1.frear(1500)\n",
        "bicicleta1.acelerar(20)"
      ],
      "metadata": {
        "id": "thQuxq-IGhR-"
      },
      "execution_count": 99,
      "outputs": []
    },
    {
      "cell_type": "code",
      "source": [
        "# Exibindo o Status do Veiculo\n",
        "print(\"Status do carro\")\n",
        "print(carro1.status())\n",
        "print(\"\\nStatus da Bicicleta\")\n",
        "print(bicicleta1.status())"
      ],
      "metadata": {
        "colab": {
          "base_uri": "https://localhost:8080/"
        },
        "id": "9epqi1qXK7S-",
        "outputId": "a66b65dd-bf61-4e2f-d59a-d9a73a04fc34"
      },
      "execution_count": 109,
      "outputs": [
        {
          "output_type": "stream",
          "name": "stdout",
          "text": [
            "Status do carro\n",
            "Marca : Toyota, Modelo: Corolla, Ano: 2022, Velocidade: 0km/h\n",
            "\n",
            "Status da Bicicleta\n",
            "Marca: Trek, Modelo: Mountain Bike, Ano: 2021, Tipo: MTB, Velocidade: 50km/h, Cor: Azul\n"
          ]
        }
      ]
    },
    {
      "cell_type": "code",
      "source": [],
      "metadata": {
        "id": "BwhEPeGRK7Wq"
      },
      "execution_count": null,
      "outputs": []
    },
    {
      "cell_type": "code",
      "source": [],
      "metadata": {
        "id": "UnhwWTMAK7aU"
      },
      "execution_count": null,
      "outputs": []
    }
  ]
}