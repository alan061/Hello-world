{
  "nbformat": 4,
  "nbformat_minor": 0,
  "metadata": {
    "colab": {
      "provenance": [],
      "authorship_tag": "ABX9TyMEaKyMWnSP9evY+qPepcQ4",
      "include_colab_link": true
    },
    "kernelspec": {
      "name": "python3",
      "display_name": "Python 3"
    },
    "language_info": {
      "name": "python"
    }
  },
  "cells": [
    {
      "cell_type": "markdown",
      "metadata": {
        "id": "view-in-github",
        "colab_type": "text"
      },
      "source": [
        "<a href=\"https://colab.research.google.com/github/alan061/Hello-world/blob/main/Aula1_Un2.ipynb\" target=\"_parent\"><img src=\"https://colab.research.google.com/assets/colab-badge.svg\" alt=\"Open In Colab\"/></a>"
      ]
    },
    {
      "cell_type": "code",
      "execution_count": 68,
      "metadata": {
        "colab": {
          "base_uri": "https://localhost:8080/"
        },
        "id": "gdpPiYujQVEK",
        "outputId": "074b25b8-1f98-483f-9938-d5e78a5bbbbc"
      },
      "outputs": [
        {
          "output_type": "stream",
          "name": "stdout",
          "text": [
            "Tamanho do texto = 67\n",
            "com in texto = True\n",
            "Quantidade de o no texto = 6\n",
            "As 3 primeiras letras são = Exp\n"
          ]
        }
      ],
      "source": [
        "# objetos do tipo de sequência\n",
        "\n",
        "texto = \"Explorando as diversidades das linguagens de progamação com python.\"\n",
        "\n",
        "print(f\"Tamanho do texto = {len(texto)}\")\n",
        "print(f\"com in texto = {'com' in texto}\")\n",
        "print(f\"Quantidade de o no texto = {texto.count('o')}\")\n",
        "print(f\"As 3 primeiras letras são = {texto[:3]}\")"
      ]
    },
    {
      "cell_type": "markdown",
      "source": [],
      "metadata": {
        "id": "w97EQWmVgsur"
      }
    },
    {
      "cell_type": "code",
      "source": [],
      "metadata": {
        "id": "QZmm3Fk9gqZC"
      },
      "execution_count": null,
      "outputs": []
    },
    {
      "cell_type": "code",
      "source": [],
      "metadata": {
        "id": "gbqOrZU-glXU"
      },
      "execution_count": null,
      "outputs": []
    },
    {
      "cell_type": "markdown",
      "source": [],
      "metadata": {
        "id": "vz7JqEt3gloC"
      }
    },
    {
      "cell_type": "code",
      "source": [],
      "metadata": {
        "id": "W5Uvw4cifn2t"
      },
      "execution_count": null,
      "outputs": []
    },
    {
      "cell_type": "code",
      "source": [],
      "metadata": {
        "id": "7gAWtB8ffrzJ"
      },
      "execution_count": null,
      "outputs": []
    },
    {
      "cell_type": "code",
      "source": [],
      "metadata": {
        "id": "dC9_6LbTfr98"
      },
      "execution_count": null,
      "outputs": []
    },
    {
      "cell_type": "code",
      "source": [
        "cores = ['Vermelho','verde','azul','amarelo','roxo']\n",
        "cor"
      ],
      "metadata": {
        "colab": {
          "base_uri": "https://localhost:8080/",
          "height": 35
        },
        "id": "KX_w93DEXV76",
        "outputId": "12de06c7-4e36-4630-d935-4021f5817901"
      },
      "execution_count": 65,
      "outputs": [
        {
          "output_type": "execute_result",
          "data": {
            "text/plain": [
              "'roxo'"
            ],
            "application/vnd.google.colaboratory.intrinsic+json": {
              "type": "string"
            }
          },
          "metadata": {},
          "execution_count": 65
        }
      ]
    },
    {
      "cell_type": "code",
      "source": [
        "for cor in cores:\n",
        "   print(f'posição = {cores.index(cor)}), cor = {cor}')"
      ],
      "metadata": {
        "colab": {
          "base_uri": "https://localhost:8080/"
        },
        "id": "UVLq7O4Za5O5",
        "outputId": "8ce49f4a-84c4-4d2d-8e82-1ee4d51b51bb"
      },
      "execution_count": 67,
      "outputs": [
        {
          "output_type": "stream",
          "name": "stdout",
          "text": [
            "posição = 0), cor = Vermelho\n",
            "posição = 1), cor = verde\n",
            "posição = 2), cor = azul\n",
            "posição = 3), cor = amarelo\n",
            "posição = 4), cor = roxo\n"
          ]
        }
      ]
    },
    {
      "cell_type": "code",
      "source": [],
      "metadata": {
        "id": "2Jrm1o3za5R4"
      },
      "execution_count": null,
      "outputs": []
    },
    {
      "cell_type": "code",
      "source": [
        "#Função Listcomp"
      ],
      "metadata": {
        "id": "m9SpaQNaa5Uf"
      },
      "execution_count": null,
      "outputs": []
    },
    {
      "cell_type": "code",
      "source": [
        "linguagens = ['Python','java','JavaScript','C','C#','C++','swift','go','Kotlin']\n",
        "print(\"Antes da listcomp =\", linguagens )\n",
        "linguagens = [item.lower() for item in linguagens]\n",
        "print(\"\\nDepois da listcomp =\", linguagens )"
      ],
      "metadata": {
        "colab": {
          "base_uri": "https://localhost:8080/"
        },
        "id": "LmDwaifna5Y3",
        "outputId": "cb007e40-ec26-48ea-d543-6a3eea4ab9f6"
      },
      "execution_count": 86,
      "outputs": [
        {
          "output_type": "stream",
          "name": "stdout",
          "text": [
            "Antes da listcomp = ['Python', 'java', 'JavaScript', 'C', 'C#', 'C++', 'swift', 'go', 'Kotlin']\n",
            "\n",
            "Depois da listcomp = ['python', 'java', 'javascript', 'c', 'c#', 'c++', 'swift', 'go', 'kotlin']\n"
          ]
        }
      ]
    },
    {
      "cell_type": "code",
      "source": [],
      "metadata": {
        "id": "veKxUgiGXV-y"
      },
      "execution_count": null,
      "outputs": []
    },
    {
      "cell_type": "code",
      "source": [],
      "metadata": {
        "id": "yzBFwTHKXWBw"
      },
      "execution_count": 172,
      "outputs": []
    },
    {
      "cell_type": "code",
      "source": [
        "#Função Map\n",
        "#Aplica a uma função em toda sequeência\n",
        "#map(funcao,sequencia)\n",
        "precos_em_dolares = [100,50,75,120]\n",
        "taxa_de_cambio = 5.25\n",
        "precos_em_reais = list(map(lambda x: x * taxa_de_cambio, precos_em_dolares))\n",
        "print(precos_em_reais)\n",
        "precos_em_reais"
      ],
      "metadata": {
        "colab": {
          "base_uri": "https://localhost:8080/"
        },
        "id": "j_P3lLiIjMsm",
        "outputId": "5de325ec-2591-4a10-8818-495932947f52"
      },
      "execution_count": 188,
      "outputs": [
        {
          "output_type": "stream",
          "name": "stdout",
          "text": [
            "[525.0, 262.5, 393.75, 630.0]\n"
          ]
        },
        {
          "output_type": "execute_result",
          "data": {
            "text/plain": [
              "[525.0, 262.5, 393.75, 630.0]"
            ]
          },
          "metadata": {},
          "execution_count": 188
        }
      ]
    },
    {
      "cell_type": "code",
      "source": [],
      "metadata": {
        "id": "rJUxD7dQoYYB"
      },
      "execution_count": null,
      "outputs": []
    },
    {
      "cell_type": "code",
      "source": [],
      "metadata": {
        "id": "6Z8hMKi7pmQB"
      },
      "execution_count": null,
      "outputs": []
    },
    {
      "cell_type": "code",
      "source": [
        "# Função Filter\n",
        "# Filtra os elementos de uma sequência com base em um função de teste(retorna true ou falses)\n",
        "#filter(funcao_teste, sequencia)\n",
        "numeros = [2,4,6,8,10,12]\n",
        "numeros_pares = list(filter(lambda x: x % 2 == 0, numeros))\n",
        "print(numeros_pares)\n",
        "\n",
        "if numeros_pares:\n",
        "    print(\"Tem numeros pares\")\n",
        "else:\n",
        "    print(\"Não tem numeros pares\")"
      ],
      "metadata": {
        "colab": {
          "base_uri": "https://localhost:8080/"
        },
        "id": "ixeX3ULdpmU3",
        "outputId": "3f90fcf3-c24d-46d3-d586-358541464c33"
      },
      "execution_count": 236,
      "outputs": [
        {
          "output_type": "stream",
          "name": "stdout",
          "text": [
            "[2, 4, 6, 8, 10, 12]\n",
            "Tem numeros pares\n"
          ]
        }
      ]
    },
    {
      "cell_type": "code",
      "source": [],
      "metadata": {
        "id": "66bu8a4Mqt-V"
      },
      "execution_count": null,
      "outputs": []
    },
    {
      "cell_type": "code",
      "source": [
        "# Tuplas\n",
        "# A ordem importa\n",
        "# Exemplos de mais tuplas e utilidade\n",
        "\n",
        "vogais = ('a', 'e', 'i', 'o', 'u',)\n",
        "print(f\"tipo de objeto vogais = {type(vogais)}\")\n",
        "for p , x in enumerate (vogais):\n",
        "  print(f\"posicao = {p}, valor = {x}\")"
      ],
      "metadata": {
        "colab": {
          "base_uri": "https://localhost:8080/"
        },
        "id": "3A3hoZpcpmXp",
        "outputId": "a9348188-9e2b-4d5c-cccd-ebfb85cddd32"
      },
      "execution_count": 250,
      "outputs": [
        {
          "output_type": "stream",
          "name": "stdout",
          "text": [
            "tipo de objeto vogais = <class 'tuple'>\n",
            "posicao = 0, valor = a\n",
            "posicao = 1, valor = e\n",
            "posicao = 2, valor = i\n",
            "posicao = 3, valor = o\n",
            "posicao = 4, valor = u\n"
          ]
        }
      ]
    },
    {
      "cell_type": "code",
      "source": [],
      "metadata": {
        "id": "5sVcJr3LjM2Q"
      },
      "execution_count": 98,
      "outputs": []
    },
    {
      "cell_type": "code",
      "source": [
        "#APLICANDO A AULA\n",
        "#lISTA DE CONVIDADOS TUPLA"
      ],
      "metadata": {
        "id": "s6z6S4FRvox3"
      },
      "execution_count": null,
      "outputs": []
    },
    {
      "cell_type": "code",
      "source": [
        "#Tuplas de convidados\n",
        "convidados = (\"Alice\", \"Bob\", \"Carol\", \"David\", \"Eve\")\n",
        "#lista de confirmados\n",
        "confirmados = (\"David\", \"Bob\")\n",
        "\n",
        "#Identificar quem ainda não confirmou\n",
        "nao_confirmados = [convidado for convidado in convidados if convidado not in confirmados]\n",
        "print(f\"Quem não confirmou: {', '.join(nao_confirmados)}\")\n",
        "\n",
        "#Exibir os candidatos que ainda não confirmaram\n",
        "print(\"candidatos que ainda não confirmaram:\")\n",
        "for pessoa in nao_confirmados:\n",
        "    print(pessoa)\n",
        "    for pe"
      ],
      "metadata": {
        "colab": {
          "base_uri": "https://localhost:8080/"
        },
        "id": "KfUI6wRlvo00",
        "outputId": "e5ea11f1-ef57-4d5d-e3cc-91929e0b9cd1"
      },
      "execution_count": 292,
      "outputs": [
        {
          "output_type": "stream",
          "name": "stdout",
          "text": [
            "Quem não confirmou: Alice, Carol, Eve\n",
            "candidatos que ainda não confirmaram:\n",
            "Alice\n",
            "Carol\n",
            "Eve\n"
          ]
        }
      ]
    },
    {
      "cell_type": "code",
      "source": [
        "nao_confirmados"
      ],
      "metadata": {
        "colab": {
          "base_uri": "https://localhost:8080/"
        },
        "id": "FIZDk_KMvo4I",
        "outputId": "1a469f93-9f23-4e23-b381-1e0a3f8ac520"
      },
      "execution_count": 284,
      "outputs": [
        {
          "output_type": "execute_result",
          "data": {
            "text/plain": [
              "['Alice', 'Carol', 'Eve']"
            ]
          },
          "metadata": {},
          "execution_count": 284
        }
      ]
    }
  ]
}