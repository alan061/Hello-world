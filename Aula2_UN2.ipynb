{
  "nbformat": 4,
  "nbformat_minor": 0,
  "metadata": {
    "colab": {
      "provenance": [],
      "authorship_tag": "ABX9TyP9C3xxS0lR9Sc58XwxDmBj",
      "include_colab_link": true
    },
    "kernelspec": {
      "name": "python3",
      "display_name": "Python 3"
    },
    "language_info": {
      "name": "python"
    }
  },
  "cells": [
    {
      "cell_type": "markdown",
      "metadata": {
        "id": "view-in-github",
        "colab_type": "text"
      },
      "source": [
        "<a href=\"https://colab.research.google.com/github/alan061/Hello-world/blob/main/Aula2_UN2.ipynb\" target=\"_parent\"><img src=\"https://colab.research.google.com/assets/colab-badge.svg\" alt=\"Open In Colab\"/></a>"
      ]
    },
    {
      "cell_type": "markdown",
      "source": [],
      "metadata": {
        "id": "JPWP1AUIBo2C"
      }
    },
    {
      "cell_type": "markdown",
      "source": [
        "OBJETOS DO TIPO SET\n"
      ],
      "metadata": {
        "id": "-aVOBonFBtgZ"
      }
    },
    {
      "cell_type": "code",
      "source": [],
      "metadata": {
        "id": "pQyiVLns8jpU"
      },
      "execution_count": 158,
      "outputs": []
    },
    {
      "cell_type": "code",
      "execution_count": 159,
      "metadata": {
        "colab": {
          "base_uri": "https://localhost:8080/"
        },
        "id": "ADTag3H65aRC",
        "outputId": "9bb17949-0d36-418b-d756-5eef70d19e9e"
      },
      "outputs": [
        {
          "output_type": "stream",
          "name": "stdout",
          "text": [
            "Conjunto após adicionar elementos {25, 10, 21}\n",
            "10 está no conjunto.\n",
            "Conjunto após remover elemento {25, 10}\n"
          ]
        }
      ],
      "source": [
        "#add(), in remove()\n",
        "\n",
        "#criando um conjunto vazio\n",
        "meu_conjunto = set()\n",
        "\n",
        "# Adicionando elementos ao conjunto\n",
        "meu_conjunto.add(10)\n",
        "meu_conjunto.add(21)\n",
        "meu_conjunto.add(25)\n",
        "\n",
        "#Imprimindo conjunto\n",
        "print(\"Conjunto após adicionar elementos\", meu_conjunto)\n",
        "\n",
        "# Verificando se um elemento está no conjunto\n",
        "elemento = 10\n",
        "if elemento in meu_conjunto:\n",
        "    print(f\"{elemento} está no conjunto.\")\n",
        "else:\n",
        "   print(f\"{elemento} não está no conjunto.\")\n",
        "\n",
        "# Eliminando um elemento do conjunto using discard()\n",
        "meu_conjunto.discard(21)\n",
        "\n",
        "#imprimindo elemento atualiazado\n",
        "print(\"Conjunto após remover elemento\", meu_conjunto)"
      ]
    },
    {
      "cell_type": "code",
      "source": [],
      "metadata": {
        "id": "MzLfh_VH8jrs"
      },
      "execution_count": 159,
      "outputs": []
    },
    {
      "cell_type": "markdown",
      "source": [
        "OBJETOS DO TIPO MAPPING"
      ],
      "metadata": {
        "id": "1v9CaBnTBzt6"
      }
    },
    {
      "cell_type": "code",
      "source": [
        "# Criando um diconario vazio, seguido de atribuição de chaves e valores\n",
        "\n",
        "dici_1 = {}\n",
        "dici_1['nome'] = 'Maria'\n",
        "dici_1['idade'] = 25\n",
        "\n",
        "dici_1"
      ],
      "metadata": {
        "colab": {
          "base_uri": "https://localhost:8080/"
        },
        "id": "AR9_dBbS8jw1",
        "outputId": "6600c4ed-08ff-4951-aed4-28c603bc6171"
      },
      "execution_count": 160,
      "outputs": [
        {
          "output_type": "execute_result",
          "data": {
            "text/plain": [
              "{'nome': 'Maria', 'idade': 25}"
            ]
          },
          "metadata": {},
          "execution_count": 160
        }
      ]
    },
    {
      "cell_type": "code",
      "source": [
        "# Exemplo2 , criação de um dicionario com pares chaves : valor\n",
        "dici_2 = {'nome': 'Maria', 'idade': 25}\n",
        "dici_2"
      ],
      "metadata": {
        "colab": {
          "base_uri": "https://localhost:8080/"
        },
        "id": "wDiUR90e8j1-",
        "outputId": "e5c2c194-1d3c-425e-b091-082712c15534"
      },
      "execution_count": 161,
      "outputs": [
        {
          "output_type": "execute_result",
          "data": {
            "text/plain": [
              "{'nome': 'Maria', 'idade': 25}"
            ]
          },
          "metadata": {},
          "execution_count": 161
        }
      ]
    },
    {
      "cell_type": "code",
      "source": [
        "# Exemplos3 criação de um dicionario com lista tupla representando pares chave: valor\n",
        "dici_3 = dict([('nome', 'Maria'), ('idade', 25)])\n",
        "dici_3"
      ],
      "metadata": {
        "colab": {
          "base_uri": "https://localhost:8080/"
        },
        "id": "wt8axBE28j6-",
        "outputId": "19533ca5-f61e-489f-97c1-0d7f68fe337c"
      },
      "execution_count": 162,
      "outputs": [
        {
          "output_type": "execute_result",
          "data": {
            "text/plain": [
              "{'nome': 'Maria', 'idade': 25}"
            ]
          },
          "metadata": {},
          "execution_count": 162
        }
      ]
    },
    {
      "cell_type": "code",
      "source": [
        "# Exemplo4 criação de um dicionario usando a função built-in zip(), e duas lista, uma para as chaves e outras para os valores\n",
        "dici_4 = dict(zip(['nome', 'idade'], ['Maria', 25]))\n",
        "dici_4"
      ],
      "metadata": {
        "colab": {
          "base_uri": "https://localhost:8080/"
        },
        "id": "XkdrgxbV8j9g",
        "outputId": "a63a9c7d-012a-4e0a-e8a4-ad95cdda5559"
      },
      "execution_count": 174,
      "outputs": [
        {
          "output_type": "execute_result",
          "data": {
            "text/plain": [
              "{'nome': 'Maria', 'idade': 25}"
            ]
          },
          "metadata": {},
          "execution_count": 174
        }
      ]
    },
    {
      "cell_type": "code",
      "source": [
        "# Teste se todas as construções terminam em objetos iguais"
      ],
      "metadata": {
        "id": "oEN45BPJ8kAY"
      },
      "execution_count": 169,
      "outputs": []
    },
    {
      "cell_type": "code",
      "source": [
        " print(dici_1 != dici_2 == dici_3 == dici_4)\n"
      ],
      "metadata": {
        "colab": {
          "base_uri": "https://localhost:8080/"
        },
        "id": "FH8YXi-38kDW",
        "outputId": "56322fd5-2192-49f4-d258-00b44f5659cf"
      },
      "execution_count": 178,
      "outputs": [
        {
          "output_type": "stream",
          "name": "stdout",
          "text": [
            "False\n"
          ]
        }
      ]
    },
    {
      "cell_type": "code",
      "source": [],
      "metadata": {
        "id": "wr8MxPSB8kNu"
      },
      "execution_count": 165,
      "outputs": []
    },
    {
      "cell_type": "code",
      "source": [
        "# Importe a biblioteca NUMPY\n",
        "import numpy as np\n",
        "\n",
        "# Crie um array numpy de numeros inteiros\n",
        "my_array = np.array([1, 2, 3, 4, 5])\n",
        "\n",
        "# Imprima o array\n",
        "print(\"Array_original\")\n",
        "print(my_array)"
      ],
      "metadata": {
        "colab": {
          "base_uri": "https://localhost:8080/"
        },
        "id": "YsDCAT-qKl5n",
        "outputId": "131d6e2d-3b70-4ed2-8ff2-79df704c4710"
      },
      "execution_count": 182,
      "outputs": [
        {
          "output_type": "stream",
          "name": "stdout",
          "text": [
            "Array_original\n",
            "[1 2 3 4 5]\n"
          ]
        }
      ]
    },
    {
      "cell_type": "code",
      "source": [
        "# Realize operaçoes matematicas com array\n",
        "squared_array = my_array ** 2  # Eleva cada elemnto ao quadrado\n",
        "print(\"Array ao quadrado\")\n",
        "print(squared_array)"
      ],
      "metadata": {
        "colab": {
          "base_uri": "https://localhost:8080/"
        },
        "id": "JdkZV9SWKl8P",
        "outputId": "ee857f5b-cf0f-408f-ca4b-1ea2bb727a34"
      },
      "execution_count": 184,
      "outputs": [
        {
          "output_type": "stream",
          "name": "stdout",
          "text": [
            "Array ao quadrado\n",
            "[ 1  4  9 16 25]\n"
          ]
        }
      ]
    },
    {
      "cell_type": "code",
      "source": [
        "sum_of_elements = np.sum(my_array)  # Calcula a soma dos elementos\n",
        "print(\"Soma dos elementos\")\n",
        "print(sum_of_elements)"
      ],
      "metadata": {
        "colab": {
          "base_uri": "https://localhost:8080/"
        },
        "id": "9eWAzZ0jKl-q",
        "outputId": "37d042bf-6c2b-4f11-ff5a-3529bca8795e"
      },
      "execution_count": 185,
      "outputs": [
        {
          "output_type": "stream",
          "name": "stdout",
          "text": [
            "Soma dos elementos\n",
            "15\n"
          ]
        }
      ]
    },
    {
      "cell_type": "code",
      "source": [
        "# Acesse elementos do array\n",
        "element_at_index_2 = my_array[2]  # Acessa o elemento na posição 2\n",
        "print(\"Elemento na posição 2\")\n",
        "print(element_at_index_2)"
      ],
      "metadata": {
        "colab": {
          "base_uri": "https://localhost:8080/"
        },
        "id": "eIWx_K6K8kRe",
        "outputId": "62910a61-cfd5-4e21-9281-f1aad62dfc1a"
      },
      "execution_count": 230,
      "outputs": [
        {
          "output_type": "stream",
          "name": "stdout",
          "text": [
            "Elemento na posição 2\n",
            "3\n"
          ]
        }
      ]
    },
    {
      "cell_type": "code",
      "source": [],
      "metadata": {
        "id": "XAFf_tnzN8Fo"
      },
      "execution_count": null,
      "outputs": []
    },
    {
      "cell_type": "code",
      "source": [
        "# Aplicando aula\n",
        "# Importe as bibliotecas necessarias\n",
        "import numpy as np\n",
        "# Dados dos participantes\n",
        " participantes  = [\n",
        "\n",
        "   { \"nome\": \"Alice\",\n",
        "    \"localização\": \"EUA\" ,\n",
        "    \"afiliação\": \"Universidade A\",\n",
        "    \"interesses\": [\"Fisica\", \"Astronomia\"]\n",
        "    },\n",
        "    {\n",
        "     \"nome\": \"Bob\",\n",
        "     \"localização\": \"Brasil\" ,\n",
        "     \"afiliação\": \"Instituto B\",\n",
        "     \"interesses\": [\"Biologia\", \"Astronomia\"]\n",
        "    },\n",
        "    {\n",
        "     \"nome\": \"Charlie\", # Missing comma here\n",
        "     \"localização\": \"India\" ,\n",
        "     \"afiliação\": \"Instituto C\",\n",
        "     \"interesses\": [\"Quimica\", \"Engenharia\"] }\n",
        " ]"
      ],
      "metadata": {
        "id": "k9U_DsT8N8AP"
      },
      "execution_count": 232,
      "outputs": []
    },
    {
      "cell_type": "code",
      "source": [
        "# Usando Sets para identificar diferentes  regiões dos participantes\n",
        "regioes = {participante[\"localização\"] for participante in participantes}\n",
        "print(\"Regiões dos participantes\")\n",
        "print(regioes)"
      ],
      "metadata": {
        "colab": {
          "base_uri": "https://localhost:8080/"
        },
        "id": "whQd9oAfN8Iq",
        "outputId": "611b01c1-4bad-486a-d51b-10585c7b6ea5"
      },
      "execution_count": 233,
      "outputs": [
        {
          "output_type": "stream",
          "name": "stdout",
          "text": [
            "Regiões dos participantes\n",
            "{'India', 'Brasil', 'EUA'}\n"
          ]
        }
      ]
    },
    {
      "cell_type": "code",
      "source": [
        "# Usando dicionario para categorizar afiliaçoes\n",
        "afiliações = {}\n",
        "for participante in participantes:\n",
        "    afiliacao = participante[\"afiliação\"] # Corrected key name\n",
        "    if afiliacao not in afiliações:\n",
        "        afiliações[afiliacao] = []\n",
        "    afiliações[afiliacao].append(participante[\"nome\"])"
      ],
      "metadata": {
        "id": "vKIK-IH2N8LA"
      },
      "execution_count": 236,
      "outputs": []
    },
    {
      "cell_type": "code",
      "source": [
        "afiliações"
      ],
      "metadata": {
        "colab": {
          "base_uri": "https://localhost:8080/"
        },
        "id": "K6jtSZgbN8NV",
        "outputId": "6af1901d-6405-4f9b-e210-37d9be128ee4"
      },
      "execution_count": 244,
      "outputs": [
        {
          "output_type": "execute_result",
          "data": {
            "text/plain": [
              "{'Universidade A': ['Alice'],\n",
              " 'Instituto B': ['Bob'],\n",
              " 'Instituto C': ['Charlie']}"
            ]
          },
          "metadata": {},
          "execution_count": 244
        }
      ]
    },
    {
      "cell_type": "code",
      "source": [
        "# Usando nupy para analisar as areas de interesses\n",
        "from collections import Counter\n",
        "\n",
        "area_de_interesse = np.array([interesse for participante in participantes for interesse in participante[\"interesses\"]])\n",
        "interesse_unicos, contagem = np.unique(area_de_interesse, return_counts=True)\n",
        "area_mais_populares = interesse_unicos[np.argmax(contagem)]\n"
      ],
      "metadata": {
        "id": "oItSYpHVN8P2"
      },
      "execution_count": 245,
      "outputs": []
    },
    {
      "cell_type": "code",
      "source": [
        "# Resultados\n",
        "print(\"Regioes dos participantes\", regioes)\n",
        "print(\"Afiliaçoes dos participantes\", )\n",
        "for afiliacao, nomes in afiliações.items():\n",
        "    print(f\"{afiliacao}: {', '.join(nomes)}\")\n",
        "print(\"Area de interesse mais popular\", area_mais_populares)\n",
        ""
      ],
      "metadata": {
        "colab": {
          "base_uri": "https://localhost:8080/"
        },
        "id": "_mXwGdogN8SO",
        "outputId": "e93edef6-8d8e-4595-a148-cb78a7a3e853"
      },
      "execution_count": 246,
      "outputs": [
        {
          "output_type": "stream",
          "name": "stdout",
          "text": [
            "Regioes dos participantes {'India', 'Brasil', 'EUA'}\n",
            "Afiliaçoes dos participantes\n",
            "Universidade A: Alice\n",
            "Instituto B: Bob\n",
            "Instituto C: Charlie\n",
            "Area de interesse mais popular Astronomia\n"
          ]
        }
      ]
    },
    {
      "cell_type": "code",
      "source": [
        "afiliacao"
      ],
      "metadata": {
        "colab": {
          "base_uri": "https://localhost:8080/",
          "height": 35
        },
        "id": "Hdkco1fvbPDl",
        "outputId": "b6160419-4ffa-401f-88b6-02ae07d0c497"
      },
      "execution_count": 247,
      "outputs": [
        {
          "output_type": "execute_result",
          "data": {
            "text/plain": [
              "'Instituto C'"
            ],
            "application/vnd.google.colaboratory.intrinsic+json": {
              "type": "string"
            }
          },
          "metadata": {},
          "execution_count": 247
        }
      ]
    },
    {
      "cell_type": "code",
      "source": [
        "interesses"
      ],
      "metadata": {
        "colab": {
          "base_uri": "https://localhost:8080/",
          "height": 141
        },
        "id": "6euO_oqSN8Ut",
        "outputId": "c7daa146-479b-45d2-a69e-2e267e8659c4"
      },
      "execution_count": 248,
      "outputs": [
        {
          "output_type": "error",
          "ename": "NameError",
          "evalue": "name 'interesses' is not defined",
          "traceback": [
            "\u001b[0;31m---------------------------------------------------------------------------\u001b[0m",
            "\u001b[0;31mNameError\u001b[0m                                 Traceback (most recent call last)",
            "\u001b[0;32m/tmp/ipython-input-3458015834.py\u001b[0m in \u001b[0;36m<cell line: 0>\u001b[0;34m()\u001b[0m\n\u001b[0;32m----> 1\u001b[0;31m \u001b[0minteresses\u001b[0m\u001b[0;34m\u001b[0m\u001b[0;34m\u001b[0m\u001b[0m\n\u001b[0m",
            "\u001b[0;31mNameError\u001b[0m: name 'interesses' is not defined"
          ]
        }
      ]
    },
    {
      "cell_type": "code",
      "source": [],
      "metadata": {
        "id": "jS5Y9VafN8X5"
      },
      "execution_count": null,
      "outputs": []
    }
  ]
}