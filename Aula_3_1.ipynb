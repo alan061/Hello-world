{
  "nbformat": 4,
  "nbformat_minor": 0,
  "metadata": {
    "colab": {
      "provenance": [],
      "authorship_tag": "ABX9TyN7sHH1NMcjz3b8vNX+Cr27",
      "include_colab_link": true
    },
    "kernelspec": {
      "name": "python3",
      "display_name": "Python 3"
    },
    "language_info": {
      "name": "python"
    }
  },
  "cells": [
    {
      "cell_type": "markdown",
      "metadata": {
        "id": "view-in-github",
        "colab_type": "text"
      },
      "source": [
        "<a href=\"https://colab.research.google.com/github/alan061/Hello-world/blob/main/Aula_3_1.ipynb\" target=\"_parent\"><img src=\"https://colab.research.google.com/assets/colab-badge.svg\" alt=\"Open In Colab\"/></a>"
      ]
    },
    {
      "cell_type": "code",
      "execution_count": 4,
      "metadata": {
        "colab": {
          "base_uri": "https://localhost:8080/"
        },
        "id": "_SWQSx1Mqb6d",
        "outputId": "60f695d8-659a-4368-a9ee-7378fe9e4cda"
      },
      "outputs": [
        {
          "output_type": "stream",
          "name": "stdout",
          "text": [
            " Bem vindo a classificação de filmes!\n",
            " Voçê tem cinco filmes para classificar!\n",
            "Digite '0' a qualquer momento para parar.\n",
            "\n",
            "Como classificar o  Filme 1?, de 1 a 5, ( Ou zero para parar): 2\n",
            "Voçê classificou o 'Filme 1' com 2 estrelas.\n",
            "\n",
            "Como classificar o  Filme 2?, de 1 a 5, ( Ou zero para parar): 6\n",
            "Por favor digite uma classificação válida de 1 a 5.\n",
            "Como classificar o  Filme 3?, de 1 a 5, ( Ou zero para parar): 6\n",
            "Por favor digite uma classificação válida de 1 a 5.\n",
            "Como classificar o  Filme 4?, de 1 a 5, ( Ou zero para parar): 0\n",
            "Que pena que voçê nãi irá classificar mais os filmes.\n",
            "Obrigado por classificar os filmes!\n"
          ]
        }
      ],
      "source": [
        "# Mensagens de Boas vindas\n",
        "print(\" Bem vindo a classificação de filmes!\")\n",
        "print(\" Voçê tem cinco filmes para classificar!\")\n",
        "print(\"Digite '0' a qualquer momento para parar.\\n\" ) # Corrected typo\n",
        "\n",
        "# Define a list of movies to be rated\n",
        "fimes = [\"Filme 1\", \"Filme 2\", \"Filme 3\", \"Filme 4\", \"Filme 5\"] # Added definition for fimes\n",
        "\n",
        "# Loop para iterar sobre cada filme da lista\n",
        "for filme in fimes : # Assuming 'fimes' is a list defined elsewhere\n",
        "    # Solicita a classifcação ao usuário\n",
        "    classificacao = input(f\"Como classificar o  {filme}?, de 1 a 5, ( Ou zero para parar): \")\n",
        "\n",
        "    # Verifica se o usuário deseja parar\n",
        "    if classificacao == '0':\n",
        "        print(\"Que pena que voçê nãi irá classificar mais os filmes.\") # Corrected typo\n",
        "        break\n",
        "\n",
        "    # Converte a classificação para um número inteiro\n",
        "    classificacao = int(classificacao)\n",
        "\n",
        "    # Verifica se a classificação tá dentro de um intervalo valído\n",
        "    if classificacao < 1 or classificacao > 5 :\n",
        "        print(\"Por favor digite uma classificação válida de 1 a 5.\")\n",
        "\n",
        "    else:\n",
        "      # Exibe a classificação e passa para o proximo filme\n",
        "        print(f\"Voçê classificou o '{filme}' com {classificacao} estrelas.\\n\") # Corrected f-string and typo\n",
        "\n",
        "print(\"Obrigado por classificar os filmes!\")"
      ]
    },
    {
      "cell_type": "code",
      "source": [],
      "metadata": {
        "id": "wyD82VDnrBMX"
      },
      "execution_count": null,
      "outputs": []
    },
    {
      "cell_type": "code",
      "source": [
        "numeros = [1,2,3,4,5]\n",
        "numeros"
      ],
      "metadata": {
        "colab": {
          "base_uri": "https://localhost:8080/"
        },
        "id": "Maq8HWrMrCCe",
        "outputId": "0c5dbce7-19df-4bc2-8ab8-2aacdb6082f0"
      },
      "execution_count": 5,
      "outputs": [
        {
          "output_type": "execute_result",
          "data": {
            "text/plain": [
              "[1, 2, 3, 4, 5]"
            ]
          },
          "metadata": {},
          "execution_count": 5
        }
      ]
    },
    {
      "cell_type": "code",
      "source": [
        "for num in numeros:\n",
        "    print(num)"
      ],
      "metadata": {
        "colab": {
          "base_uri": "https://localhost:8080/"
        },
        "id": "O5CUU0X3rCFO",
        "outputId": "0679d134-1b54-407e-9a82-f260403fd28b"
      },
      "execution_count": 6,
      "outputs": [
        {
          "output_type": "stream",
          "name": "stdout",
          "text": [
            "1\n",
            "2\n",
            "3\n",
            "4\n",
            "5\n"
          ]
        }
      ]
    },
    {
      "cell_type": "code",
      "source": [
        "while"
      ],
      "metadata": {
        "id": "K-7lAsSGrCId"
      },
      "execution_count": null,
      "outputs": []
    },
    {
      "cell_type": "code",
      "source": [
        "numero = int(input(\"Digite um número(ou 0 para sair:)\"))\n",
        "while numero != 0:\n",
        "   if  numero % 2 == 0:\n",
        "    print(\"O número é par.\")\n",
        "   else:\n",
        "    print(\"O número é impar.\")\n",
        "   numero = int(input(\"Digite um número(ou 0 para sair:)\"))"
      ],
      "metadata": {
        "colab": {
          "base_uri": "https://localhost:8080/"
        },
        "id": "YyDUXi8vrCKx",
        "outputId": "7503b8aa-e360-4330-8322-f9f3c86609da"
      },
      "execution_count": 7,
      "outputs": [
        {
          "name": "stdout",
          "output_type": "stream",
          "text": [
            "Digite um número(ou 0 para sair:)1\n",
            "O número é impar.\n",
            "Digite um número(ou 0 para sair:)2\n",
            "O número é par.\n",
            "Digite um número(ou 0 para sair:)6\n",
            "O número é par.\n",
            "Digite um número(ou 0 para sair:)5\n",
            "O número é impar.\n",
            "Digite um número(ou 0 para sair:)0\n"
          ]
        }
      ]
    },
    {
      "cell_type": "code",
      "source": [],
      "metadata": {
        "id": "BQMqFu1QrCNi"
      },
      "execution_count": null,
      "outputs": []
    },
    {
      "cell_type": "code",
      "source": [
        "Range lembre- se que range começa em 0\n"
      ],
      "metadata": {
        "id": "fGZMozHgrCQO"
      },
      "execution_count": null,
      "outputs": []
    },
    {
      "cell_type": "code",
      "source": [
        "for x in range(5):\n",
        "    print(x)"
      ],
      "metadata": {
        "colab": {
          "base_uri": "https://localhost:8080/"
        },
        "id": "ZdGGMp8Tqw3f",
        "outputId": "480335da-ec7d-496c-96b2-1b3cd9bfa936"
      },
      "execution_count": 8,
      "outputs": [
        {
          "output_type": "stream",
          "name": "stdout",
          "text": [
            "0\n",
            "1\n",
            "2\n",
            "3\n",
            "4\n"
          ]
        }
      ]
    },
    {
      "cell_type": "code",
      "source": [
        "for y in range(2,7):\n",
        "  print(y)"
      ],
      "metadata": {
        "colab": {
          "base_uri": "https://localhost:8080/"
        },
        "id": "hz3Nmq0grQWo",
        "outputId": "53719a80-7343-4e48-c74a-981dd31b6bb0"
      },
      "execution_count": 9,
      "outputs": [
        {
          "output_type": "stream",
          "name": "stdout",
          "text": [
            "2\n",
            "3\n",
            "4\n",
            "5\n",
            "6\n"
          ]
        }
      ]
    },
    {
      "cell_type": "code",
      "source": [
        "for z in range(1,11,2):\n",
        "  print(z)"
      ],
      "metadata": {
        "colab": {
          "base_uri": "https://localhost:8080/"
        },
        "id": "Cu8DoZ0PrQZN",
        "outputId": "37d97f94-09f2-478a-8274-f86de9e39efb"
      },
      "execution_count": 10,
      "outputs": [
        {
          "output_type": "stream",
          "name": "stdout",
          "text": [
            "1\n",
            "3\n",
            "5\n",
            "7\n",
            "9\n"
          ]
        }
      ]
    },
    {
      "cell_type": "code",
      "source": [
        "for numero in range (10,11):\n",
        "    if numero % 2 == 0:\n",
        "      print(f\"O primeiro número par encontrado é: {numero}\")\n",
        "      break"
      ],
      "metadata": {
        "colab": {
          "base_uri": "https://localhost:8080/"
        },
        "id": "A09xr6H_rQbj",
        "outputId": "b2560d8f-0454-4614-fd4f-7306094b8936"
      },
      "execution_count": 13,
      "outputs": [
        {
          "output_type": "stream",
          "name": "stdout",
          "text": [
            "O primeiro número par encontrado é: 10\n"
          ]
        }
      ]
    },
    {
      "cell_type": "code",
      "source": [
        "for numero in range(4,11):\n",
        "    if numero == 5:\n",
        "        continue\n",
        "    print(numero)"
      ],
      "metadata": {
        "colab": {
          "base_uri": "https://localhost:8080/"
        },
        "id": "JhUl5qUrrQdv",
        "outputId": "928cf623-41b3-49ee-fca9-c4cbd9866b00"
      },
      "execution_count": 17,
      "outputs": [
        {
          "output_type": "stream",
          "name": "stdout",
          "text": [
            "4\n",
            "6\n",
            "7\n",
            "8\n",
            "9\n",
            "10\n"
          ]
        }
      ]
    },
    {
      "cell_type": "code",
      "source": [],
      "metadata": {
        "id": "L_iJ8zu4rQgV"
      },
      "execution_count": null,
      "outputs": []
    },
    {
      "cell_type": "code",
      "source": [],
      "metadata": {
        "id": "pUrC8Rg2rQik"
      },
      "execution_count": null,
      "outputs": []
    },
    {
      "cell_type": "code",
      "source": [],
      "metadata": {
        "id": "Iws_XM6rrQku"
      },
      "execution_count": null,
      "outputs": []
    },
    {
      "cell_type": "code",
      "source": [],
      "metadata": {
        "id": "9xnvX1LcrQqR"
      },
      "execution_count": null,
      "outputs": []
    }
  ]
}