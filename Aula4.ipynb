{
  "nbformat": 4,
  "nbformat_minor": 0,
  "metadata": {
    "colab": {
      "provenance": [],
      "authorship_tag": "ABX9TyOst0uHVY8YqywRQGdWt/Xb",
      "include_colab_link": true
    },
    "kernelspec": {
      "name": "python3",
      "display_name": "Python 3"
    },
    "language_info": {
      "name": "python"
    }
  },
  "cells": [
    {
      "cell_type": "markdown",
      "metadata": {
        "id": "view-in-github",
        "colab_type": "text"
      },
      "source": [
        "<a href=\"https://colab.research.google.com/github/alan061/Hello-world/blob/main/Aula4.ipynb\" target=\"_parent\"><img src=\"https://colab.research.google.com/assets/colab-badge.svg\" alt=\"Open In Colab\"/></a>"
      ]
    },
    {
      "cell_type": "code",
      "execution_count": 4,
      "metadata": {
        "colab": {
          "base_uri": "https://localhost:8080/"
        },
        "id": "Wo_ajRw0Hl1V",
        "outputId": "cef709f3-db8d-44d9-90ef-9cd9d843b033"
      },
      "outputs": [
        {
          "output_type": "stream",
          "name": "stdout",
          "text": [
            "O comprimento da lista é: 13\n"
          ]
        }
      ],
      "source": [
        "# Crie uma lista de numeros\n",
        "numeros = [1,2,3,4,5,6,7,8,9,10,11,'a',True]\n",
        "\n",
        "# Usa a função 'len' para calcular o comprimento da lista\n",
        "comprimento = len(numeros)\n",
        "\n",
        "# Imprime o comprimento da lista\n",
        "print(\"O comprimento da lista é:\",comprimento)"
      ]
    },
    {
      "cell_type": "code",
      "source": [],
      "metadata": {
        "id": "sLshB-pZLVKG"
      },
      "execution_count": null,
      "outputs": []
    },
    {
      "cell_type": "code",
      "source": [
        "# Definindo uma função chamada menos\n",
        "def soma(a,b):\n",
        "  resultado = a + b\n",
        "  return resultado"
      ],
      "metadata": {
        "id": "NmE2h1nnLVNq"
      },
      "execution_count": 30,
      "outputs": []
    },
    {
      "cell_type": "code",
      "source": [
        "resultado_soma =  soma(5,2)\n",
        "\n",
        "# Imprimindo resultado\n",
        "print(\"A somade 5,2 é:\", resultado_soma)"
      ],
      "metadata": {
        "colab": {
          "base_uri": "https://localhost:8080/"
        },
        "id": "YDZMrePLLw5y",
        "outputId": "f74c529a-546f-44ba-f48d-b4e975e49da6"
      },
      "execution_count": 31,
      "outputs": [
        {
          "output_type": "stream",
          "name": "stdout",
          "text": [
            "A somade 5,2 é: 7\n"
          ]
        }
      ]
    },
    {
      "cell_type": "code",
      "source": [],
      "metadata": {
        "id": "yhvfZslTLVQW"
      },
      "execution_count": null,
      "outputs": []
    },
    {
      "cell_type": "code",
      "source": [
        "# Definindo uma função chamada 'e_par'\n",
        "def e_par(numero):\n",
        "  # Operador modulo %\n",
        "  if numero % 2 == 0:\n",
        "    return True\n",
        "  else:\n",
        "    return False"
      ],
      "metadata": {
        "id": "pTXuf61qLVUl"
      },
      "execution_count": 39,
      "outputs": []
    },
    {
      "cell_type": "code",
      "source": [
        "numero = 1\n",
        "\n",
        "\n",
        "if e_par(numero):\n",
        "    print(f\"{numero} é um numero par.\")\n",
        "else:\n",
        "    print(f\"{numero} Não é número par.\")"
      ],
      "metadata": {
        "colab": {
          "base_uri": "https://localhost:8080/"
        },
        "id": "_JS6h8Y4OAP4",
        "outputId": "8c5ffdce-b2eb-4b2e-bf4e-44f815a70598"
      },
      "execution_count": 42,
      "outputs": [
        {
          "output_type": "stream",
          "name": "stdout",
          "text": [
            "1 Não é número par.\n"
          ]
        }
      ]
    },
    {
      "cell_type": "code",
      "source": [],
      "metadata": {
        "id": "Jka6sWzXOASe"
      },
      "execution_count": null,
      "outputs": []
    },
    {
      "cell_type": "code",
      "source": [
        "soma = lambda  a, b: a - b\n",
        "resultado = soma(5465,324)\n",
        "print(resultado)"
      ],
      "metadata": {
        "colab": {
          "base_uri": "https://localhost:8080/"
        },
        "id": "8NKKf3qSUPek",
        "outputId": "006c5957-2c44-4bd6-f738-e71d10b5f303"
      },
      "execution_count": 54,
      "outputs": [
        {
          "output_type": "stream",
          "name": "stdout",
          "text": [
            "5141\n"
          ]
        }
      ]
    },
    {
      "cell_type": "code",
      "source": [],
      "metadata": {
        "id": "frKLd-qMWGcs"
      },
      "execution_count": null,
      "outputs": []
    },
    {
      "cell_type": "code",
      "source": [
        "# Lista de notas dos estudantes\n",
        "notas = [7.0, 7.0, 7.0, 7.0, 6.9]\n",
        "\n",
        "# função regular para calcular a média\n",
        "def calcular_media(notas):\n",
        "  soma = sum(notas)\n",
        "  media = soma / len(notas)\n",
        "  return media\n",
        "\n",
        "# Função Lambda para arredondar a nota para duas  casa decimais\n",
        "arrendondar_media =  lambda media: round(media,2)\n",
        "\n",
        "#Calcular medias\n",
        "media = calcular_media(notas) # Use 'nota' list here\n",
        "media_arredondada = arrendondar_media(media) # Use 'media' here\n",
        "\n",
        "\n",
        "# Verificar se os estudantes foram aprovados\n",
        "situacao = \"aprovado\" if media_arredondada >= 7 else \"Reprovado\"\n",
        "\n",
        "print(\"Notas do estudantes foram:\", notas)\n",
        "print(f\"A média das notas é: {media_arredondada}\")\n",
        "print(f\"Situação do estudante: {situacao}\")"
      ],
      "metadata": {
        "colab": {
          "base_uri": "https://localhost:8080/"
        },
        "id": "MbcDF0nNWGfG",
        "outputId": "2cfd55e2-c7eb-400e-de72-69043fc252ca"
      },
      "execution_count": 81,
      "outputs": [
        {
          "output_type": "stream",
          "name": "stdout",
          "text": [
            "Notas do estudantes foram: [7.0, 7.0, 7.0, 7.0, 6.9]\n",
            "A média das notas é: 6.98\n",
            "Situação do estudante: Reprovado\n"
          ]
        }
      ]
    },
    {
      "cell_type": "code",
      "source": [],
      "metadata": {
        "id": "pTkPbsAKWGhQ"
      },
      "execution_count": null,
      "outputs": []
    },
    {
      "cell_type": "code",
      "source": [],
      "metadata": {
        "id": "uPxBK2K5WGjd"
      },
      "execution_count": null,
      "outputs": []
    },
    {
      "cell_type": "code",
      "source": [],
      "metadata": {
        "id": "9NBqafwKWGnT"
      },
      "execution_count": null,
      "outputs": []
    },
    {
      "cell_type": "code",
      "source": [],
      "metadata": {
        "id": "QGMfWrl3WG1-"
      },
      "execution_count": null,
      "outputs": []
    },
    {
      "cell_type": "code",
      "source": [],
      "metadata": {
        "id": "pUIfQR1SWG4A"
      },
      "execution_count": null,
      "outputs": []
    },
    {
      "cell_type": "code",
      "source": [],
      "metadata": {
        "id": "hnBxhqPJWG6f"
      },
      "execution_count": null,
      "outputs": []
    },
    {
      "cell_type": "code",
      "source": [],
      "metadata": {
        "id": "D7AWhKAjWG8k"
      },
      "execution_count": null,
      "outputs": []
    },
    {
      "cell_type": "code",
      "source": [],
      "metadata": {
        "id": "hCD2MtS8WG_Y"
      },
      "execution_count": null,
      "outputs": []
    }
  ]
}