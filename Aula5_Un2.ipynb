{
  "nbformat": 4,
  "nbformat_minor": 0,
  "metadata": {
    "colab": {
      "provenance": [],
      "authorship_tag": "ABX9TyMdLZ/qMHyHDbd8mXOIgOQX",
      "include_colab_link": true
    },
    "kernelspec": {
      "name": "python3",
      "display_name": "Python 3"
    },
    "language_info": {
      "name": "python"
    }
  },
  "cells": [
    {
      "cell_type": "markdown",
      "metadata": {
        "id": "view-in-github",
        "colab_type": "text"
      },
      "source": [
        "<a href=\"https://colab.research.google.com/github/alan061/Hello-world/blob/main/Aula5_Un2.ipynb\" target=\"_parent\"><img src=\"https://colab.research.google.com/assets/colab-badge.svg\" alt=\"Open In Colab\"/></a>"
      ]
    },
    {
      "cell_type": "code",
      "execution_count": 13,
      "metadata": {
        "id": "8dGXmBp9rV6Y"
      },
      "outputs": [],
      "source": [
        "# Construindo a classe\n",
        "import matplotlib.pyplot as plt\n",
        "# classe para representar um livro\n",
        "class livro:\n",
        "    def __init__(self, titulo, autor, ano):\n",
        "        self.titulo = titulo\n",
        "        self.autor = autor\n",
        "        self.ano_publicacao = ano\n",
        "\n",
        "    def __str__(self):\n",
        "        return f\"{self.titulo} por {self.autor}, publicado em {self.ano_publicacao}\""
      ]
    },
    {
      "cell_type": "code",
      "source": [
        "import matplotlib.pyplot as plt\n",
        "# classe para representar um livro\n",
        "class livro:\n",
        "    def __init__(self, titulo, autor, ano):\n",
        "        self.titulo = titulo\n",
        "        self.autor = autor\n",
        "        self.ano_publicacao = ano\n",
        "\n",
        "    def __str__(self):\n",
        "        return f\"{self.titulo} por {self.autor}, publicado em {self.ano_publicacao}\"\n",
        "\n",
        "# Criar uma lista de livros\n",
        "biblioteca =  []\n",
        "\n",
        "# Lista para armazenar anos de publicacao\n",
        "anos = []\n",
        "\n",
        "# Função para adiconar um livro a biblioteca\n",
        "def adicionar_livro(titulo,autor, ano_publicacao):\n",
        "    livro_novo = livro(titulo,autor,ano_publicacao)\n",
        "    biblioteca.append(livro_novo)\n",
        "    anos.append(ano_publicacao)\n",
        "    print(f\" O livro {titulo} foi adicionado a biblioteca ok\")"
      ],
      "metadata": {
        "id": "fmlsKp4RrhEm"
      },
      "execution_count": 71,
      "outputs": []
    },
    {
      "cell_type": "code",
      "source": [
        "# Adiconar livros a biblioteca\n",
        "\n",
        "adicionar_livro(\"Dom Casmurro\", \"Machado de Assis\", 1899)\n",
        "adicionar_livro(\"O Alquimista\", \"Paulo Coelho\", 1988)\n",
        "adicionar_livro(\"1984\", \"George Orwell\", 1949)\n",
        "adicionar_livro(\"O Senhor dos Anéis\", \"J.R.R. Tolkien\", 1954)\n",
        "adicionar_livro(\"O Pequeno Príncipe\", \"Antoine de Saint-Exupéry\", 2010)\n",
        "adicionar_livro(\"O Nome da Rosa\", \"Umberto Eco\", 2011)"
      ],
      "metadata": {
        "colab": {
          "base_uri": "https://localhost:8080/"
        },
        "id": "c5YzetHvrhRh",
        "outputId": "ec9cdb13-20be-4c71-957e-62466f5dd6cd"
      },
      "execution_count": 70,
      "outputs": [
        {
          "output_type": "stream",
          "name": "stdout",
          "text": [
            " O livro Dom Casmurro foi adicionado a biblioteca ok\n",
            " O livro O Alquimista foi adicionado a biblioteca ok\n",
            " O livro 1984 foi adicionado a biblioteca ok\n",
            " O livro O Senhor dos Anéis foi adicionado a biblioteca ok\n",
            " O livro O Pequeno Príncipe foi adicionado a biblioteca ok\n",
            " O livro O Nome da Rosa foi adicionado a biblioteca ok\n"
          ]
        }
      ]
    },
    {
      "cell_type": "code",
      "source": [
        " #Listar todos os livros da Biblioteca\n",
        "listar_livros()\n",
        "\n",
        "# Criar um grafico de livros por anos\n",
        "anos = list(set(anos)) # remove a duplicata dos anos\n",
        "anos.sort()\n",
        "\n",
        "# Contagem dos livros por ano\n",
        "contagem_por_ano = [anos.count(ano) for ano in anos]\n",
        "\n",
        "# Criar um grafico de linhas\n",
        "plt.plot(anos, contagem_por_ano, marker='o', linestyle='-')\n",
        "plt.xlabel('Ano de publicacao')\n",
        "plt.ylabel('Numeros de Livros')\n",
        "plt.title('Distribuição de livros na Biblioteca por anos de Publicacão')\n",
        "\n",
        "# Adicionar rotulos  ao ponto de dados\n",
        "for i, valor in enumerate(contagem_por_ano):\n",
        "    plt.text(anos[i], valor, str(valor), ha='center', va='bottom')\n",
        "plt.grid(True)\n",
        "plt.show()"
      ],
      "metadata": {
        "colab": {
          "base_uri": "https://localhost:8080/",
          "height": 489
        },
        "id": "90KK0-BErhWV",
        "outputId": "55791866-2cee-46a7-ac39-b47f6df80286"
      },
      "execution_count": 69,
      "outputs": [
        {
          "output_type": "stream",
          "name": "stdout",
          "text": [
            "Lista de Livros na Biblioteca:\n"
          ]
        },
        {
          "output_type": "display_data",
          "data": {
            "text/plain": [
              "<Figure size 640x480 with 1 Axes>"
            ],
            "image/png": "[encoded data removed]"
          },
          "metadata": {}
        }
      ]
    },
    {
      "cell_type": "code",
      "source": [
        "listar_livros()"
      ],
      "metadata": {
        "colab": {
          "base_uri": "https://localhost:8080/"
        },
        "id": "KIJJdGBAxTGl",
        "outputId": "91abe635-21fd-45d9-b075-897e89dd365f"
      },
      "execution_count": 73,
      "outputs": [
        {
          "output_type": "stream",
          "name": "stdout",
          "text": [
            "Lista de Livros na Biblioteca:\n"
          ]
        }
      ]
    },
    {
      "cell_type": "code",
      "source": [],
      "metadata": {
        "id": "cxpgvw8AxTJH"
      },
      "execution_count": null,
      "outputs": []
    },
    {
      "cell_type": "code",
      "source": [],
      "metadata": {
        "id": "NhjFn8HRxTL8"
      },
      "execution_count": null,
      "outputs": []
    },
    {
      "cell_type": "code",
      "source": [],
      "metadata": {
        "id": "lYr_xvNDxTPM"
      },
      "execution_count": null,
      "outputs": []
    },
    {
      "cell_type": "code",
      "source": [],
      "metadata": {
        "id": "DKzGOw1drhYv"
      },
      "execution_count": null,
      "outputs": []
    },
    {
      "cell_type": "code",
      "source": [],
      "metadata": {
        "id": "D4HgNx-4rhbm"
      },
      "execution_count": null,
      "outputs": []
    }
  ]
}