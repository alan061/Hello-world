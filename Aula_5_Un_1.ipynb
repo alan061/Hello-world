{
  "nbformat": 4,
  "nbformat_minor": 0,
  "metadata": {
    "colab": {
      "provenance": [],
      "authorship_tag": "ABX9TyPgtzZKG7IS7kVheZuSuCVH",
      "include_colab_link": true
    },
    "kernelspec": {
      "name": "python3",
      "display_name": "Python 3"
    },
    "language_info": {
      "name": "python"
    }
  },
  "cells": [
    {
      "cell_type": "markdown",
      "metadata": {
        "id": "view-in-github",
        "colab_type": "text"
      },
      "source": [
        "<a href=\"https://colab.research.google.com/github/alan061/Hello-world/blob/main/Aula_5_Un_1.ipynb\" target=\"_parent\"><img src=\"https://colab.research.google.com/assets/colab-badge.svg\" alt=\"Open In Colab\"/></a>"
      ]
    },
    {
      "cell_type": "markdown",
      "source": [
        "CALCULADORA DE DESCONTOS\n",
        "\n"
      ],
      "metadata": {
        "id": "g_ykKfsRn-6G"
      }
    },
    {
      "cell_type": "code",
      "execution_count": 94,
      "metadata": {
        "colab": {
          "base_uri": "https://localhost:8080/"
        },
        "id": "6SpP8LEyk9Ch",
        "outputId": "23fd9d8f-c4b4-4259-88a7-29153b4d58f6"
      },
      "outputs": [
        {
          "name": "stdout",
          "output_type": "stream",
          "text": [
            "Digite o valor do produto:R$ 1500\n"
          ]
        }
      ],
      "source": [
        "# Solicita  ao usuario que insira o valor do produto e o percentual de desconto\n",
        "valor_produto = float(input(\"Digite o valor do produto:R$ \"))\n"
      ]
    },
    {
      "cell_type": "code",
      "source": [
        "percentual_desconto = float(input(\"Digite o percentual de desconto: \"))"
      ],
      "metadata": {
        "colab": {
          "base_uri": "https://localhost:8080/"
        },
        "id": "g_9vOaijo94K",
        "outputId": "68393969-a1ac-49e9-c3d1-3e9ed2647f9d"
      },
      "execution_count": 96,
      "outputs": [
        {
          "name": "stdout",
          "output_type": "stream",
          "text": [
            "Digite o percentual de desconto: 35\n"
          ]
        }
      ]
    },
    {
      "cell_type": "code",
      "source": [
        "# Verifica se o valor do desconto tá dentro dos limites aceitaveis(0-100%)\n",
        "if percentual_desconto < 0 or percentual_desconto > 100:\n",
        "    print(\"Erro!, O percentual de desconto deve estar entre 0 e 100%\")\n",
        "else:\n",
        "  # Calcular o valor do desconto\n",
        "    desconto = valor_produto * (percentual_desconto / 100)\n",
        "    # Calcula o valor final da compra\n",
        "    valor_final = valor_produto - desconto\n",
        "    valor_desconto = valor_produto - valor_final"
      ],
      "metadata": {
        "id": "HeRQEUSbo97V"
      },
      "execution_count": 97,
      "outputs": []
    },
    {
      "cell_type": "code",
      "source": [
        "valor_desconto\n"
      ],
      "metadata": {
        "colab": {
          "base_uri": "https://localhost:8080/"
        },
        "id": "iDSYWU1ms3Cf",
        "outputId": "33a5fbc6-96d9-4469-da88-b929967b3f4b"
      },
      "execution_count": 99,
      "outputs": [
        {
          "output_type": "execute_result",
          "data": {
            "text/plain": [
              "525.0"
            ]
          },
          "metadata": {},
          "execution_count": 99
        }
      ]
    },
    {
      "cell_type": "code",
      "source": [
        "# Exibe valor final da compra\n",
        "print(f\"O valor com desconto é: R${valor_final:}\")\n",
        "print(f\"O valor do desconto é: R${valor_desconto:}\")"
      ],
      "metadata": {
        "colab": {
          "base_uri": "https://localhost:8080/"
        },
        "id": "FWtA1i12o99v",
        "outputId": "750f223a-6673-4fa0-b184-3aeec6d82de8"
      },
      "execution_count": 100,
      "outputs": [
        {
          "output_type": "stream",
          "name": "stdout",
          "text": [
            "O valor com desconto é: R$975.0\n",
            "O valor do desconto é: R$525.0\n"
          ]
        }
      ]
    },
    {
      "cell_type": "code",
      "source": [
        "# Calcula o valor final da compra\n",
        "valor_final = valor_produto - desconto"
      ],
      "metadata": {
        "id": "wslw7GpFo-Ac"
      },
      "execution_count": 63,
      "outputs": []
    },
    {
      "cell_type": "code",
      "source": [],
      "metadata": {
        "id": "o_P_IFa1o-Di"
      },
      "execution_count": null,
      "outputs": []
    }
  ]
}