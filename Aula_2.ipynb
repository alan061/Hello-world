{
  "nbformat": 4,
  "nbformat_minor": 0,
  "metadata": {
    "colab": {
      "provenance": [],
      "authorship_tag": "ABX9TyO6oSnog3SJWHdXHRkFlNVJ",
      "include_colab_link": true
    },
    "kernelspec": {
      "name": "python3",
      "display_name": "Python 3"
    },
    "language_info": {
      "name": "python"
    }
  },
  "cells": [
    {
      "cell_type": "markdown",
      "metadata": {
        "id": "view-in-github",
        "colab_type": "text"
      },
      "source": [
        "<a href=\"https://colab.research.google.com/github/alan061/Hello-world/blob/main/Aula_2.ipynb\" target=\"_parent\"><img src=\"https://colab.research.google.com/assets/colab-badge.svg\" alt=\"Open In Colab\"/></a>"
      ]
    },
    {
      "cell_type": "code",
      "execution_count": null,
      "metadata": {
        "colab": {
          "base_uri": "https://localhost:8080/"
        },
        "id": "t4EvraCM-pSI",
        "outputId": "2335163b-455f-46bf-9fac-f60b971c6c81"
      },
      "outputs": [
        {
          "output_type": "execute_result",
          "data": {
            "text/plain": [
              "True"
            ]
          },
          "metadata": {},
          "execution_count": 2
        }
      ],
      "source": [
        "3>2"
      ]
    },
    {
      "cell_type": "code",
      "source": [
        "2==2"
      ],
      "metadata": {
        "colab": {
          "base_uri": "https://localhost:8080/"
        },
        "id": "caFb1VuU-64b",
        "outputId": "da59c3aa-7dc8-4184-883b-a84c996fb2d7"
      },
      "execution_count": null,
      "outputs": [
        {
          "output_type": "execute_result",
          "data": {
            "text/plain": [
              "True"
            ]
          },
          "metadata": {},
          "execution_count": 4
        }
      ]
    },
    {
      "cell_type": "code",
      "source": [],
      "metadata": {
        "id": "OvwyuBql-661"
      },
      "execution_count": null,
      "outputs": []
    },
    {
      "cell_type": "code",
      "source": [
        "a = 'aluno'\n",
        "b = 'aluna'\n",
        "\n",
        "a is not b"
      ],
      "metadata": {
        "colab": {
          "base_uri": "https://localhost:8080/"
        },
        "id": "rezXFhmI-69q",
        "outputId": "6c00c566-c1d9-44c8-fbb5-efbe04c6c5ee"
      },
      "execution_count": null,
      "outputs": [
        {
          "output_type": "execute_result",
          "data": {
            "text/plain": [
              "True"
            ]
          },
          "metadata": {},
          "execution_count": 6
        }
      ]
    },
    {
      "cell_type": "code",
      "source": [],
      "metadata": {
        "id": "WhUKTDXE-7Ay"
      },
      "execution_count": null,
      "outputs": []
    },
    {
      "cell_type": "code",
      "source": [
        "idade = 17\n",
        "\n",
        "\n"
      ],
      "metadata": {
        "id": "30VIuzWy-7DV"
      },
      "execution_count": 27,
      "outputs": []
    },
    {
      "cell_type": "code",
      "source": [
        "if idade < 18:\n",
        "    print(\"Menor de idade\")\n",
        "elif idade >= 18 and idade < 65:\n",
        "    print(\"Adulto\")\n",
        "else:\n",
        "    print(\"idoso\")"
      ],
      "metadata": {
        "colab": {
          "base_uri": "https://localhost:8080/"
        },
        "id": "l5qjnqno-7F7",
        "outputId": "a86c422e-ba35-4598-f685-0851adc6362c"
      },
      "execution_count": 28,
      "outputs": [
        {
          "output_type": "stream",
          "name": "stdout",
          "text": [
            "Menor de idade\n"
          ]
        }
      ]
    },
    {
      "cell_type": "code",
      "source": [],
      "metadata": {
        "id": "LMNNdrvC-7LG"
      },
      "execution_count": null,
      "outputs": []
    },
    {
      "cell_type": "code",
      "source": [
        "# Bem vindo á máquina de vendas de automática de ingressos do cinema:\n",
        "\n",
        "# Solicita a idade dos clientes\n",
        "idade =int(input(\"Por favor, digite sua idade:\"))\n",
        "\n",
        "# Verifica a idade para sugestão de filmes\n",
        "if idade < 12:\n",
        "   print(\"Recomendamos o filme infantil, FILME 1.\")\n",
        "elif 12 <=  idade < 18:\n",
        "   print(\"Recomendamos o filme adolescente, FILME 2.\")\n",
        "else:\n",
        "   print(\"Recomendamos o filme emocionante, FILME 3.\")\n",
        "\n",
        "# Verifica a disponibilidade de ingressos\n",
        "quantidade_ingressos = 10\n",
        "if quantidade_ingressos > 0:\n",
        "  print(\"ingressos estão disponiveis, Diverta-se no cinema!\")\n",
        "else:\n",
        "  print(\"Não temos ingressos disponiveis!\")\n",
        "\n"
      ],
      "metadata": {
        "id": "L7BuYaAyIV0v",
        "colab": {
          "base_uri": "https://localhost:8080/"
        },
        "outputId": "2f8b1a08-371a-417a-c0b3-939eab335261"
      },
      "execution_count": 85,
      "outputs": [
        {
          "output_type": "stream",
          "name": "stdout",
          "text": [
            "Por favor, digite sua idade:18\n",
            "Recomendamos o filme emocionante, FILME 3.\n",
            "ingressos estão disponiveis, Diverta-se no cinema!\n"
          ]
        }
      ]
    },
    {
      "cell_type": "code",
      "source": [
        "sinal = input(\"digete a cor do sinal:\")\n",
        "\n",
        "elif amarelo:\n",
        "    print(\"tenha atenção!\")\n",
        "else:\n",
        "   print(\"PERIGO , pare imediatamente!\")"
      ],
      "metadata": {
        "colab": {
          "base_uri": "https://localhost:8080/",
          "height": 106
        },
        "id": "AY1CPFAnUhWm",
        "outputId": "e4a2cf54-055a-4eda-bef6-3ee0997096b1"
      },
      "execution_count": 84,
      "outputs": [
        {
          "output_type": "error",
          "ename": "SyntaxError",
          "evalue": "invalid syntax (ipython-input-4149688775.py, line 3)",
          "traceback": [
            "\u001b[0;36m  File \u001b[0;32m\"/tmp/ipython-input-4149688775.py\"\u001b[0;36m, line \u001b[0;32m3\u001b[0m\n\u001b[0;31m    elif amarelo:\u001b[0m\n\u001b[0m    ^\u001b[0m\n\u001b[0;31mSyntaxError\u001b[0m\u001b[0;31m:\u001b[0m invalid syntax\n"
          ]
        }
      ]
    },
    {
      "cell_type": "code",
      "source": [],
      "metadata": {
        "id": "QE0lIFICUfF2"
      },
      "execution_count": null,
      "outputs": []
    },
    {
      "cell_type": "code",
      "source": [],
      "metadata": {
        "id": "_fnWwfWU-7Nt"
      },
      "execution_count": null,
      "outputs": []
    }
  ]
}