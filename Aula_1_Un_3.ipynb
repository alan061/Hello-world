{
  "nbformat": 4,
  "nbformat_minor": 0,
  "metadata": {
    "colab": {
      "provenance": [],
      "authorship_tag": "ABX9TyP2UP3mmGqgBc9ef4EPAajm",
      "include_colab_link": true
    },
    "kernelspec": {
      "name": "python3",
      "display_name": "Python 3"
    },
    "language_info": {
      "name": "python"
    }
  },
  "cells": [
    {
      "cell_type": "markdown",
      "metadata": {
        "id": "view-in-github",
        "colab_type": "text"
      },
      "source": [
        "<a href=\"https://colab.research.google.com/github/alan061/Hello-world/blob/main/Aula_1_Un_3.ipynb\" target=\"_parent\"><img src=\"https://colab.research.google.com/assets/colab-badge.svg\" alt=\"Open In Colab\"/></a>"
      ]
    },
    {
      "cell_type": "markdown",
      "source": [
        "Aplicação de banco de dados com python"
      ],
      "metadata": {
        "id": "dULQV2CwDCvw"
      }
    },
    {
      "cell_type": "code",
      "source": [
        "import sqlite3\n",
        "\n",
        "\n",
        "# 1 - Conectar ao banco de dados ou criar um novo\n",
        "# usando a função conect do Sqlite3 para te conectar a um banco de dados SQlite\n",
        "#Chamado 'exemplo.db', se o banco de dados não existir ele será criado automamticamente\n",
        "\n",
        "conn = sqlite3.connect('exemplo.db')\n",
        "\n",
        "# 2 - Criar um objeto cursor\n",
        "#O cursor é usado  pra  executar comandos SQL no banco de dados\n",
        "#Ele atua como uma especie de ponteiro que percorre os resultados de consulta\n",
        "cursor = conn.cursor()\n",
        "\n",
        "# 3 - Definir o comando SQL para cria a tabela\n",
        "# Define uma string create_table  que conte um comando SQL para cria uma tabela chamada produtos\n",
        "\n",
        "# Essa tabela tera quatro colunas : Id( Chave primaria),nome ( texto), preco(numero real) e estoque( numero inteiro)\n",
        " # 'IF NOT EXISTS' é usado para evitar erros se a tabela já existir\n",
        "\n",
        "create_table = textwrap.dedent(\"\"\"\n",
        "CREATE TABLE IF NOT EXISTS produtos(\n",
        "Id INTEGER PRIMARY KEY ,\n",
        "Nome TEXT NOT NULL,\n",
        "Preco REAL NOT NULL,\n",
        "Estoque INTEGER\n",
        ");\n",
        "\"\"\")\n",
        "\n",
        "\n",
        "# Usa o metodo executa do objeto cursor para executar o comando SQL definido anteriomente e criar a tabela no banco de dados\n",
        "# 4 executa o comando SQL para criar a tabela\n",
        "cursor.execute(create_table)\n",
        "\n",
        "# Comfirma as alteraçoes (commit)\n",
        "#Após a execução bem sucedida do comando SQL\n",
        "# Isso garante que as alteraç~es seja efetivamentes aplicadas\n",
        "conn.commit()\n",
        "\n",
        "# 6 - Fechar a conexão com o banco de dados\n",
        "# Finalmente vc usa o metodo close para encerrae a conexão com o banco de dados\n",
        "# E uma pratica recomendada fechar a conexão após a conclusao das operações, para liberar recurso e evitar futuros problemas de concorrência\n",
        "\n",
        "conn.close()"
      ],
      "metadata": {
        "id": "p0bXZzSzDFcw"
      },
      "execution_count": 151,
      "outputs": []
    },
    {
      "cell_type": "code",
      "source": [],
      "metadata": {
        "id": "WslkksuWDFhy"
      },
      "execution_count": 151,
      "outputs": []
    },
    {
      "cell_type": "code",
      "source": [
        "#adicionar produto\n",
        "import sqlite3\n",
        "conn = sqlite3.connect('exemplo.db') # Corrected database connection\n",
        "cursor = conn.cursor()\n",
        "# Dados do novo produto\n",
        "novo_produto = ('Camiseta', 29.99, 50)\n",
        "\n",
        "# Comando SQL para inserir novo produto a tabela\n",
        "inserir_produto = \"INSERT INTO produtos (nome, preco, estoque) VALUES (?, ?, ?)\"\n",
        "cursor.execute(inserir_produto, novo_produto)\n",
        "# Confirmando as alterações\n",
        "conn.commit()\n",
        "# Fechando a conexão com o banco de dados\n",
        "conn.close()"
      ],
      "metadata": {
        "id": "AmkZFe30DFkg"
      },
      "execution_count": 152,
      "outputs": []
    },
    {
      "cell_type": "code",
      "source": [
        "# visualizar esse produto\n",
        "# conectando ao banco de dados\n",
        "conn = sqlite3.connect('exemplo.db')\n",
        "cursor = conn.cursor()\n",
        "# Comando SQL para selecionar todos os produtos\n",
        "selecionar_produtos = \"SELECT * FROM produtos\"\n",
        "cursor.execute(selecionar_produtos)\n",
        "# obtendo todos os produtos e existindo-os\n",
        "produtos = cursor.fetchall()\n",
        "for produto in produtos: # Changed prdutos to produto\n",
        "    print(produto)\n",
        "# Fechando a conexão com o banco de dados\n",
        "conn.close()"
      ],
      "metadata": {
        "id": "L3n__0KSDFnB",
        "colab": {
          "base_uri": "https://localhost:8080/"
        },
        "outputId": "e81d2fa2-ca84-4964-f54b-d03e7d02d8e3"
      },
      "execution_count": 153,
      "outputs": [
        {
          "output_type": "stream",
          "name": "stdout",
          "text": [
            "(1, 'Camiseta', 29.99, 50)\n"
          ]
        }
      ]
    },
    {
      "cell_type": "code",
      "source": [
        "# Atualizar produtos\n",
        "import sqlite3\n",
        "conn = sqlite3.connect('exemplo.db')\n",
        "cursor = conn.cursor()\n",
        "# Dados\n",
        "novo_preco = 9.99\n",
        "produto_id = 1 # suponhamos que queiramos atualizar o produto com ID 1\n",
        "# Comando SQL para atualizar o preco do produto\n",
        "atualizar_preco = \"UPDATE produtos SET preco = ? WHERE id = ?\"\n",
        "cursor.execute(atualizar_preco, (novo_preco, produto_id))\n",
        "conn.commit()\n",
        "conn.close()"
      ],
      "metadata": {
        "id": "--WaLgHXDFpY"
      },
      "execution_count": 154,
      "outputs": []
    },
    {
      "cell_type": "code",
      "source": [
        "# Excluir produto da lista\n",
        "import sqlite3\n",
        "import textwrap # Import textwrap here\n",
        "conn = sqlite3.connect('exemplo.db')\n",
        "cursor = conn.cursor()\n",
        "\n",
        "\n",
        "\n",
        "\n",
        "# Id do produtor a ser excluido\n",
        "produto_id = 1\n",
        "# Comando SQL para excluir o produto\n",
        "excluir_produto = \"DELETE FROM produtos WHERE id = ?\"\n",
        "cursor.execute(excluir_produto, (produto_id,))\n",
        "conn.commit()\n",
        "conn.close()"
      ],
      "metadata": {
        "id": "b7omybtYDFr8"
      },
      "execution_count": 155,
      "outputs": []
    },
    {
      "cell_type": "code",
      "source": [],
      "metadata": {
        "id": "2L1Eq7YzDFug"
      },
      "execution_count": 155,
      "outputs": []
    },
    {
      "cell_type": "code",
      "source": [
        "from sqlite3.dbapi2 import Cursor\n",
        "# APRICANDO A AULA\n",
        "\n",
        "import sqlite3\n",
        "# Criação de tabela e inserção de dados de exemplo\n",
        "conn = sqlite3.connect('contatos.db')\n",
        "cursor = conn.cursor()\n",
        "cursor.execute(\"\"\"\n",
        "CREATE TABLE IF NOT EXISTS contatos (\n",
        "id INTEGER PRIMARY KEY,\n",
        "nome TEXT NOT NULL,\n",
        "email TEXT NOT NULL,\n",
        "telefone TEXT NOT NULL\n",
        ");\n",
        "\"\"\")\n",
        "\n",
        "dados_exemplo = [\n",
        "    ('joao', 'joao@email.com', '123456789'),\n",
        "    ('maria', 'maria@email.com', '987654321'),\n",
        "    ('pedro', 'pedro@email.com', '555555555'),\n",
        "    ('ana', 'ana@email.com', '111111111'),\n",
        "    ('carlos', 'carlos@email.com', '222222222')\n",
        "]\n",
        "cursor.executemany(\"\"\"\n",
        "INSERT INTO contatos (nome, email, telefone)\n",
        "VALUES (?, ?, ?);\n",
        "\"\"\", dados_exemplo)\n",
        "conn.commit()\n",
        "\n",
        "\n",
        "# Leitura e exibição de contatos\n",
        "\n",
        "cursor.execute(\"\"\"\n",
        "SELECT * FROM contatos;\n",
        "\"\"\")\n",
        "contatos = cursor.fetchall()\n",
        "for contato in contatos:\n",
        "    print(contato)\n",
        "\n",
        "# Atualização do contato de telefone do ID2\n",
        "\n",
        "novo_telefone = '970033817'\n",
        "contato_id = 2\n",
        "cursor.execute(\"\"\"\n",
        "UPDATE contatos SET telefone = ? WHERE id = ?;\n",
        "\"\"\", (novo_telefone, contato_id))\n",
        "conn.commit()\n",
        "# deletar contato\n",
        "\n",
        "contato_id_para_deletar = 5\n",
        "cursor.execute(\"\"\"\n",
        "DELETE FROM contatos WHERE id = ?;\n",
        "\"\"\", (contato_id_para_deletar,))\n",
        "conn.commit()\n",
        "\n",
        "# Fechar a conexão com o banco de dados\n",
        "conn.close()"
      ],
      "metadata": {
        "id": "N8BuGe3FDFwt",
        "colab": {
          "base_uri": "https://localhost:8080/"
        },
        "outputId": "0f9e8173-b761-4ba2-e294-1366f87cc465"
      },
      "execution_count": 156,
      "outputs": [
        {
          "output_type": "stream",
          "name": "stdout",
          "text": [
            "(1, 'joao', 'joao@email.com', '123456789')\n",
            "(2, 'maria', 'maria@email.com', '970033817')\n",
            "(3, 'pedro', 'pedro@email.com', '555555555')\n",
            "(4, 'ana', 'ana@email.com', '111111111')\n",
            "(6, 'maria', 'maria@email.com', '987654321')\n",
            "(7, 'pedro', 'pedro@email.com', '555555555')\n",
            "(8, 'ana', 'ana@email.com', '111111111')\n",
            "(9, 'carlos', 'carlos@email.com', '222222222')\n",
            "(10, 'joao', 'joao@email.com', '123456789')\n",
            "(11, 'maria', 'maria@email.com', '987654321')\n",
            "(12, 'pedro', 'pedro@email.com', '555555555')\n",
            "(13, 'ana', 'ana@email.com', '111111111')\n",
            "(14, 'carlos', 'carlos@email.com', '222222222')\n"
          ]
        }
      ]
    }
  ]
}